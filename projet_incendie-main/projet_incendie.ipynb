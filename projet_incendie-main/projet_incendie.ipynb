{
 "metadata": {
  "language_info": {
   "codemirror_mode": {
    "name": "ipython",
    "version": 3
   },
   "file_extension": ".py",
   "mimetype": "text/x-python",
   "name": "python",
   "nbconvert_exporter": "python",
   "pygments_lexer": "ipython3",
   "version": 3
  },
  "orig_nbformat": 2
 },
 "nbformat": 4,
 "nbformat_minor": 2,
 "cells": [
  {
   "cell_type": "code",
   "execution_count": null,
   "metadata": {},
   "outputs": [],
   "source": [
    "#############################################\n",
    "#groupe MIASHS 1\n",
    "#Alae KARTOUT\n",
    "#Basma BAGNAH AMADOU\n",
    "#Beatriz ANTON ARTAZA\n",
    "# https://github.com/bea-anton/projet_incendie.git\n",
    "##############################################\n",
    "\n",
    "##############################################\n",
    "# import des librairies \n",
    "\n",
    "import tkinter as tkinter\n",
    "\n",
    "#############################################\n",
    "#constantes\n",
    "\n",
    "COULEUR_FOND = \"gray\"\n",
    "LARGEUR = \n",
    "HAUTEUR = \n",
    "\n",
    "##############################################\n",
    "#fonctions \n",
    "\n",
    "\n",
    "##############################################\n",
    "#programme principal \n",
    "\n",
    "racine = tk.Tk()\n",
    "racine.title(\"Projet incendie\")\n",
    "#creation des widgets\n",
    "canvas = tk.Canvas(racine, bg=COULEUR_FOND, width = LARGEUR, height = HAUTEUR)\n",
    "#PLACEMENT DES WIDGETS\n",
    "canvas.grid(row=0)\n",
    "#boucle principal\n",
    "racine.mainloop()\n"
   ]
  }
 ]
}